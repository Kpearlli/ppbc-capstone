{
 "cells": [
  {
   "cell_type": "code",
   "execution_count": 11,
   "id": "828b3abc",
   "metadata": {},
   "outputs": [
    {
     "name": "stdout",
     "output_type": "stream",
     "text": [
      "Enter the location of input CSV file: combined_data.csv\n",
      "Enter the location of output CSV file: new_output.csv\n",
      "Certificate eligibility check completed.\n"
     ]
    }
   ],
   "source": [
    "import pandas as pd\n",
    "\n",
    "# Define the eligibility criteria\n",
    "def passing_score(score):\n",
    "    if isinstance(score, str):  # Check if the value is 'completed'\n",
    "        if score.lower().strip( ) == 'completed':\n",
    "            return True  \n",
    "        else:\n",
    "            try:\n",
    "                score = float(score.rstrip('%')) # Check for scores data\n",
    "                return score >= 55\n",
    "            except ValueError:\n",
    "                return False \n",
    "    else:\n",
    "        return False\n",
    "\n",
    "def check_eligibility(df, output_file):\n",
    "    completed_finalproject = df['Final project score (Fail/ Pass/ scores)'].apply(passing_score)\n",
    "    achieve_attendance = df['Attendance rate'] >= 80\n",
    "    placement_status = df['Placement Status '].isin(['Permanent', 'Contract', 'Self-employment'])\n",
    "   \n",
    "    # Combine the criteria to determine eligibility\n",
    "    df['Cert Eligibility'] = completed_finalproject & achieve_attendance & placement_status\n",
    "    \n",
    "    df.to_csv(output_file, index=False)\n",
    "    print(\"Certificate eligibility check completed.\")\n",
    "    \n",
    "    return df\n",
    "\n",
    "if __name__ == \"__main__\":\n",
    "    # to enter input and output file paths\n",
    "    input_file = input(\"Enter the location of input CSV file: \")\n",
    "    output_file = input(\"Enter the location of output CSV file: \")\n",
    "    \n",
    "    # Read input CSV to define df\n",
    "    df = pd.read_csv(input_file)\n",
    "    \n",
    "    # Run certificate eligibility check\n",
    "    modified_df = check_eligibility(df, output_file)\n",
    "\n",
    "\n"
   ]
  },
  {
   "cell_type": "code",
   "execution_count": null,
   "id": "df3bdefa",
   "metadata": {},
   "outputs": [],
   "source": []
  }
 ],
 "metadata": {
  "kernelspec": {
   "display_name": "Python 3 (ipykernel)",
   "language": "python",
   "name": "python3"
  },
  "language_info": {
   "codemirror_mode": {
    "name": "ipython",
    "version": 3
   },
   "file_extension": ".py",
   "mimetype": "text/x-python",
   "name": "python",
   "nbconvert_exporter": "python",
   "pygments_lexer": "ipython3",
   "version": "3.11.5"
  }
 },
 "nbformat": 4,
 "nbformat_minor": 5
}
